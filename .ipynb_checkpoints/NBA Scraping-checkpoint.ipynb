{
 "cells": [
  {
   "cell_type": "markdown",
   "id": "13b5a10a",
   "metadata": {},
   "source": [
    "# Python Scripting"
   ]
  },
  {
   "cell_type": "markdown",
   "id": "c523f20b",
   "metadata": {},
   "source": [
    "## NBA Stats"
   ]
  },
  {
   "cell_type": "markdown",
   "id": "0e114cce",
   "metadata": {},
   "source": [
    "Importation des librairies."
   ]
  },
  {
   "cell_type": "code",
   "execution_count": 4,
   "id": "8d2f954a",
   "metadata": {},
   "outputs": [
    {
     "name": "stdout",
     "output_type": "stream",
     "text": [
      "Collecting selenium\n",
      "  Obtaining dependency information for selenium from https://files.pythonhosted.org/packages/0e/59/aae37fa93e2d4292c3148efcc3066c8ecfe5cfaa72bf8c0b1a5614622cf7/selenium-4.15.2-py3-none-any.whl.metadata\n",
      "  Downloading selenium-4.15.2-py3-none-any.whl.metadata (6.9 kB)\n",
      "Requirement already satisfied: urllib3[socks]<3,>=1.26 in c:\\users\\leduc\\anaconda3\\lib\\site-packages (from selenium) (1.26.16)\n",
      "Collecting trio~=0.17 (from selenium)\n",
      "  Obtaining dependency information for trio~=0.17 from https://files.pythonhosted.org/packages/39/46/620fbe56f41fa3ccdda2136d947fb9bacce3d1eb163f057f0262a0ddf5e0/trio-0.23.1-py3-none-any.whl.metadata\n",
      "  Downloading trio-0.23.1-py3-none-any.whl.metadata (4.9 kB)\n",
      "Collecting trio-websocket~=0.9 (from selenium)\n",
      "  Obtaining dependency information for trio-websocket~=0.9 from https://files.pythonhosted.org/packages/48/be/a9ae5f50cad5b6f85bd2574c2c923730098530096e170c1ce7452394d7aa/trio_websocket-0.11.1-py3-none-any.whl.metadata\n",
      "  Downloading trio_websocket-0.11.1-py3-none-any.whl.metadata (4.7 kB)\n",
      "Requirement already satisfied: certifi>=2021.10.8 in c:\\users\\leduc\\anaconda3\\lib\\site-packages (from selenium) (2023.7.22)\n",
      "Requirement already satisfied: attrs>=20.1.0 in c:\\users\\leduc\\anaconda3\\lib\\site-packages (from trio~=0.17->selenium) (22.1.0)\n",
      "Requirement already satisfied: sortedcontainers in c:\\users\\leduc\\anaconda3\\lib\\site-packages (from trio~=0.17->selenium) (2.4.0)\n",
      "Requirement already satisfied: idna in c:\\users\\leduc\\anaconda3\\lib\\site-packages (from trio~=0.17->selenium) (3.4)\n",
      "Collecting outcome (from trio~=0.17->selenium)\n",
      "  Obtaining dependency information for outcome from https://files.pythonhosted.org/packages/55/8b/5ab7257531a5d830fc8000c476e63c935488d74609b50f9384a643ec0a62/outcome-1.3.0.post0-py2.py3-none-any.whl.metadata\n",
      "  Downloading outcome-1.3.0.post0-py2.py3-none-any.whl.metadata (2.6 kB)\n",
      "Collecting sniffio>=1.3.0 (from trio~=0.17->selenium)\n",
      "  Using cached sniffio-1.3.0-py3-none-any.whl (10 kB)\n",
      "Requirement already satisfied: cffi>=1.14 in c:\\users\\leduc\\anaconda3\\lib\\site-packages (from trio~=0.17->selenium) (1.15.1)\n",
      "Collecting wsproto>=0.14 (from trio-websocket~=0.9->selenium)\n",
      "  Using cached wsproto-1.2.0-py3-none-any.whl (24 kB)\n",
      "Requirement already satisfied: PySocks!=1.5.7,<2.0,>=1.5.6 in c:\\users\\leduc\\anaconda3\\lib\\site-packages (from urllib3[socks]<3,>=1.26->selenium) (1.7.1)\n",
      "Requirement already satisfied: pycparser in c:\\users\\leduc\\anaconda3\\lib\\site-packages (from cffi>=1.14->trio~=0.17->selenium) (2.21)\n",
      "Collecting h11<1,>=0.9.0 (from wsproto>=0.14->trio-websocket~=0.9->selenium)\n",
      "  Using cached h11-0.14.0-py3-none-any.whl (58 kB)\n",
      "Downloading selenium-4.15.2-py3-none-any.whl (10.2 MB)\n",
      "   ---------------------------------------- 0.0/10.2 MB ? eta -:--:--\n",
      "   - -------------------------------------- 0.5/10.2 MB 14.5 MB/s eta 0:00:01\n",
      "   ---- ----------------------------------- 1.1/10.2 MB 17.7 MB/s eta 0:00:01\n",
      "   ------- -------------------------------- 1.8/10.2 MB 16.6 MB/s eta 0:00:01\n",
      "   ---------- ----------------------------- 2.6/10.2 MB 18.3 MB/s eta 0:00:01\n",
      "   ------------- -------------------------- 3.4/10.2 MB 19.6 MB/s eta 0:00:01\n",
      "   ---------------- ----------------------- 4.2/10.2 MB 19.2 MB/s eta 0:00:01\n",
      "   ------------------- -------------------- 4.9/10.2 MB 19.7 MB/s eta 0:00:01\n",
      "   ---------------------- ----------------- 5.7/10.2 MB 20.4 MB/s eta 0:00:01\n",
      "   ------------------------- -------------- 6.6/10.2 MB 20.0 MB/s eta 0:00:01\n",
      "   ---------------------------- ----------- 7.3/10.2 MB 20.3 MB/s eta 0:00:01\n",
      "   ------------------------------- -------- 8.0/10.2 MB 20.6 MB/s eta 0:00:01\n",
      "   ----------------------------------- ---- 8.9/10.2 MB 21.1 MB/s eta 0:00:01\n",
      "   ------------------------------------- -- 9.6/10.2 MB 20.5 MB/s eta 0:00:01\n",
      "   ---------------------------------------  10.2/10.2 MB 20.3 MB/s eta 0:00:01\n",
      "   ---------------------------------------- 10.2/10.2 MB 18.6 MB/s eta 0:00:00\n",
      "Downloading trio-0.23.1-py3-none-any.whl (448 kB)\n",
      "   ---------------------------------------- 0.0/448.3 kB ? eta -:--:--\n",
      "   --------------------------------------- 448.3/448.3 kB 27.4 MB/s eta 0:00:00\n",
      "Downloading trio_websocket-0.11.1-py3-none-any.whl (17 kB)\n",
      "Downloading outcome-1.3.0.post0-py2.py3-none-any.whl (10 kB)\n",
      "Installing collected packages: sniffio, outcome, h11, wsproto, trio, trio-websocket, selenium\n",
      "  Attempting uninstall: sniffio\n",
      "    Found existing installation: sniffio 1.2.0\n",
      "    Uninstalling sniffio-1.2.0:\n",
      "      Successfully uninstalled sniffio-1.2.0\n",
      "Successfully installed h11-0.14.0 outcome-1.3.0.post0 selenium-4.15.2 sniffio-1.3.0 trio-0.23.1 trio-websocket-0.11.1 wsproto-1.2.0\n"
     ]
    }
   ],
   "source": [
    "!pip install selenium"
   ]
  },
  {
   "cell_type": "code",
   "execution_count": 5,
   "id": "fe421963",
   "metadata": {},
   "outputs": [],
   "source": [
    "from selenium import webdriver\n",
    "from selenium.webdriver.common.by import By\n",
    "from selenium.webdriver.support.ui import Select\n",
    "from bs4 import BeautifulSoup\n",
    "import time\n",
    "import pandas as pd\n",
    "import numpy as np\n",
    "import seaborn as sns\n",
    "import matplotlib.pyplot as plt\n",
    "import seaborn as sns\n",
    "import io"
   ]
  },
  {
   "cell_type": "markdown",
   "id": "3be3e3c0",
   "metadata": {},
   "source": [
    "Initialisation des constantes."
   ]
  },
  {
   "cell_type": "code",
   "execution_count": 6,
   "id": "74fa423f",
   "metadata": {},
   "outputs": [],
   "source": [
    "init_link = \"https://www.nba.com/stats/leaders?Season=2022-23\""
   ]
  },
  {
   "cell_type": "markdown",
   "id": "6e7dbcb5",
   "metadata": {},
   "source": [
    "Récupérer les données d'un lien."
   ]
  },
  {
   "cell_type": "code",
   "execution_count": null,
   "id": "6a85913e",
   "metadata": {},
   "outputs": [],
   "source": [
    "def get_data(link):\n",
    "    driver = webdriver.Chrome()\n",
    "    driver.get(init_link)\n",
    "\n",
    "    cookie_accept = driver.find_element(By.CSS_SELECTOR, \"#onetrust-accept-btn-handler\")\n",
    "    cookie_accept.click()\n",
    "    time.sleep(10)\n",
    "\n",
    "    dropdown_div = driver.find_element(By.CSS_SELECTOR, \".Pagination_pageDropdown__KgjBU\")\n",
    "    dropdown_element = Select(dropdown_div.find_element(By.CSS_SELECTOR, \".DropDown_select__4pIg9\"))\n",
    "    dropdown_element.select_by_visible_text(\"All\")\n",
    "\n",
    "    page_source = driver.page_source\n",
    "\n",
    "    soup = BeautifulSoup(page_source, 'html.parser')\n",
    "    \n",
    "\n",
    "    table = soup.find('table', attrs={'class':'Crom_table__p1iZz'})\n",
    "\n",
    "\n",
    "\n",
    "    if table:\n",
    "        df = pd.read_html(io.StringIO(str(table)))[0]\n",
    "\n",
    "        df.to_csv('NBA_Stats_22-23.csv', index=False)\n",
    "\n",
    "\n",
    "        print(\"Données sauvegardées.\")\n",
    "    else:\n",
    "        print(\"Erreur lors de la récupération des données.\")\n",
    "    \n",
    "\n",
    "    driver.quit()\n",
    "\n",
    "    return df"
   ]
  }
 ],
 "metadata": {
  "kernelspec": {
   "display_name": "Python 3 (ipykernel)",
   "language": "python",
   "name": "python3"
  },
  "language_info": {
   "codemirror_mode": {
    "name": "ipython",
    "version": 3
   },
   "file_extension": ".py",
   "mimetype": "text/x-python",
   "name": "python",
   "nbconvert_exporter": "python",
   "pygments_lexer": "ipython3",
   "version": "3.11.4"
  }
 },
 "nbformat": 4,
 "nbformat_minor": 5
}
