{
 "cells": [
  {
   "cell_type": "markdown",
   "id": "9efced09",
   "metadata": {},
   "source": [
    "# Python Scripting"
   ]
  },
  {
   "cell_type": "markdown",
   "id": "5971601d",
   "metadata": {},
   "source": [
    "## NBA Stats"
   ]
  },
  {
   "cell_type": "markdown",
   "id": "cc85e51f",
   "metadata": {},
   "source": [
    "Importation des librairies"
   ]
  }
 ],
 "metadata": {
  "kernelspec": {
   "display_name": "Python 3 (ipykernel)",
   "language": "python",
   "name": "python3"
  },
  "language_info": {
   "codemirror_mode": {
    "name": "ipython",
    "version": 3
   },
   "file_extension": ".py",
   "mimetype": "text/x-python",
   "name": "python",
   "nbconvert_exporter": "python",
   "pygments_lexer": "ipython3",
   "version": "3.11.4"
  }
 },
 "nbformat": 4,
 "nbformat_minor": 5
}
